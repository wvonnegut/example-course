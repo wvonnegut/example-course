{
 "cells": [
  {
   "cell_type": "code",
   "execution_count": 1,
   "metadata": {},
   "outputs": [],
   "source": [
    "import numpy as np\n",
    "import doctest"
   ]
  },
  {
   "cell_type": "markdown",
   "metadata": {},
   "source": [
    "## Problem 1 (20 points)\n",
    "\n",
    "### a) Complete the definition in cell below.\n",
    "\n",
    "```raw\n",
    "Note: you can expand a markdown cell as raw text by double-clicking, and you can render an expanded cell by pressing `<Shift+Enter>`.\n",
    "```"
   ]
  },
  {
   "cell_type": "markdown",
   "metadata": {},
   "source": [
    "Let $\\mathbf{V}$ be a *vector space* and let $\\mathbf{W} \\subseteq \\mathbf{V}$ be a *subset* of $\\mathbf{V}$ if and only if...\n",
    "<!-- Finish the statement. -->\n",
    "<span style=\"color:red\">{{something is true}}</span> "
   ]
  },
  {
   "cell_type": "markdown",
   "metadata": {},
   "source": [
    "### b) Determine if the following sets $\\mathbf{W}$ are subspaces of $\\R^3$.\n",
    "\n",
    "If it is a subspace, you must **show work to support your claim**.  If it is not a subspace, you must **give a reason to support your claim**."
   ]
  },
  {
   "cell_type": "markdown",
   "metadata": {},
   "source": [
    "#### (b.i)\n",
    "\n",
    "$$\n",
    "\\mathbf{W} = \\left\\{\n",
    "    \\begin{bmatrix} x \\\\ y \\\\ z \\end{bmatrix}\n",
    "    : y - x = z, \\mathrm{ where} \\  x,y,z \\in \\R\n",
    "\\right\\}\n",
    "$$"
   ]
  },
  {
   "cell_type": "markdown",
   "metadata": {},
   "source": []
  },
  {
   "cell_type": "markdown",
   "metadata": {},
   "source": [
    "#### (b.ii)\n",
    "\n",
    "$$\n",
    "\\mathbf{W} = \\left\\{\n",
    "    \\begin{bmatrix} x \\\\ y \\\\ z \\end{bmatrix}\n",
    "    : y >= 0, \\mathrm{ where} \\  x,y,z \\in \\R\n",
    "\\right\\}\n",
    "$$"
   ]
  },
  {
   "cell_type": "markdown",
   "metadata": {},
   "source": []
  },
  {
   "cell_type": "markdown",
   "metadata": {},
   "source": [
    "## Problem 2 (15 points)\n",
    "\n",
    "### a) Summation Notation\n",
    "Consider the matrix $A \\in \\R^{m \\times n}$ and $B \\in \\R^{n \\times m}$. Use the ***summation notation*** to show that\n",
    "$$\n",
    "\\mathrm{trace}(AB) = \\mathrm{trace}(BA)\n",
    "$$"
   ]
  },
  {
   "cell_type": "markdown",
   "metadata": {},
   "source": []
  },
  {
   "cell_type": "markdown",
   "metadata": {},
   "source": [
    "### b) Find the value of trace(AB) for the following:\n",
    "\n",
    "$$\n",
    "\\begin{align*}\n",
    "A &= \\begin{bmatrix}1 & 2 & 3 & 4 & 5\\end{bmatrix}^T \\\\\n",
    "B &= \\begin{bmatrix}1 & 2 & 3 & 4 & 5\\end{bmatrix}\n",
    "\\end{align*}\n",
    "$$"
   ]
  },
  {
   "cell_type": "code",
   "execution_count": 2,
   "metadata": {},
   "outputs": [],
   "source": [
    "trace_AB = NotImplemented # Name your answer `trace_AB`"
   ]
  },
  {
   "cell_type": "markdown",
   "metadata": {},
   "source": [
    "## Problem 3 (175 Points)\n",
    "\n",
    "### a) Classical Gram-Schmidt\n",
    "\n",
    "Given the set of linearly independent vectors $\\mathbf{x}_0, \\mathbf{x}_1, ..., \\mathbf{x}_n$, the orthonormal basis vectors $\\mathbf{q}_i$ are found by the following procedure:\n",
    "\n",
    "$$\n",
    "\\providecommand{\\norm}[2]{\\left\\lVert {#2} \\right\\rVert_#1 }\n",
    "\\providecommand{\\normvec}[1]{\\frac{#1}{\\norm{2}{#1}}}\n",
    "$$\n",
    "\n",
    "$$\n",
    "\\begin{align*}\n",
    "    \\mathbf{q}_1 &= \\normvec{\\mathbf{x}_1} \\\\\n",
    "    \\mathbf{q}_2 &= \\normvec{\\mathbf{x}_2 - (\\mathbf{q}^T_1\\mathbf{x}_2)\\mathbf{q}_1} \\\\\n",
    "    &... \\\\\n",
    "    \\mathbf{q}_n &= \\normvec{\\mathbf{x}_n - \\sum_{k=1}^{n}{(\\mathbf{q}^T_k\\mathbf{x}_n)\\mathbf{q}_n}}\n",
    "\\end{align*}\n",
    "$$\n",
    "\n",
    "Thus, $\\mathscr{B} = \\{ \\mathbf{q}_1, ..., \\mathbf{q}_n \\}$ is an orthonormal basis for $\\R^n$.\n",
    "\n",
    "**Your task:** Implement the `classical_gram_schmidt` function below, using **only** the `numpy` library."
   ]
  },
  {
   "cell_type": "code",
   "execution_count": 40,
   "metadata": {},
   "outputs": [],
   "source": [
    "def classical_gram_schmidt(A: np.ndarray):\n",
    "    \"\"\"Applies the Gram-Schmidt procedure to the columns of matrix A.\n",
    "    \n",
    "    Example Usage:\n",
    "        >>> classical_gram_schmidt([ \\\n",
    "            [1, 0, 1, 1],            \\\n",
    "            [0, 1, 0, 1],            \\\n",
    "            [1, 0, 0, 1],            \\\n",
    "            [0,-1, 1, 1]])\n",
    "        array([[ 0.70710678,  0.        ,  0.5       , -0.5       ],\n",
    "               [ 0.        ,  0.70710678,  0.5       ,  0.5       ],\n",
    "               [ 0.70710678,  0.        , -0.5       ,  0.5       ],\n",
    "               [ 0.        , -0.70710678,  0.5       ,  0.5       ]])\n",
    "\n",
    "    Arguments:\n",
    "        A (np.ndarray): A square matrix whose columns are linearly independent.\n",
    "    Returns:\n",
    "        A square matrix whose columns are orthogonal.\n",
    "    \"\"\"\n",
    "    A = np.asanyarray(A, dtype=np.float64)\n",
    "    assert len(A.shape) == 2 and A.shape[0] == A.shape[1]\n",
    "\n",
    "    ### Your code here!\n",
    "\n",
    "    return NotImplemented\n",
    "\n",
    "# This line runs code in `Example Usage` and checks the the outputs match.\n",
    "# You can safely delete this or comment it out, but buyer beware - if this\n",
    "# raises an error, you probably have a bug in your code.\n",
    "import doctest\n",
    "doctest.run_docstring_examples(classical_gram_schmidt, locals())"
   ]
  },
  {
   "cell_type": "markdown",
   "metadata": {},
   "source": [
    "### b) Modified Gram-Schmidt\n",
    "\n",
    "The modified Gram-Schidt procedure gives us the same result as classical Gram-Schmidt, but is more numerically stable (that is, it results in smaller numerical error given finite-precision computations).  The algorithm works as follows:\n",
    "\n",
    "```code\n",
    "for i = 1:n\n",
    "    v_i = a_i\n",
    "for i = 1:n\n",
    "    r_ii = ||v_i||\n",
    "    q_i = v_i / r_ii\n",
    "    for j = i+1 : n\n",
    "        r_ij = <q_i, v_j>\n",
    "        v_j = v_j - r_ij q_i\n",
    "```"
   ]
  },
  {
   "cell_type": "code",
   "execution_count": 87,
   "metadata": {},
   "outputs": [],
   "source": [
    "def modified_gram_schmidt(A: np.ndarray):\n",
    "    \"\"\"Applies the Modified Gram-Schmidt procedure to the columns of matrix A.\n",
    "    \n",
    "    Example Usage:\n",
    "        >>> modified_gram_schmidt([  \\\n",
    "            [0, 4, 1, 1],            \\\n",
    "            [2, 1, 0, 0],            \\\n",
    "            [0, 0, 0, 2],            \\\n",
    "            [1, 0, 1, 1]])\n",
    "        array([[ 0.        ,  0.99961442,  0.02776707,  0.        ],\n",
    "               [ 0.9715688 ,  0.09715688, -0.21590418,  0.        ],\n",
    "               [ 0.        ,  0.        ,  0.        ,  1.        ],\n",
    "               [ 0.71609221, -0.28643688,  0.63652641,  0.        ]])\n",
    "\n",
    "    Arguments:\n",
    "        A (np.ndarray): A square matrix whose columns are linearly independent.\n",
    "    Returns:\n",
    "        A square matrix whose columns are orthogonal.\n",
    "    \"\"\"\n",
    "    A = np.asanyarray(A, dtype=np.float64)\n",
    "    assert len(A.shape) == 2 and A.shape[0] == A.shape[1]\n",
    "    \n",
    "    ### Your code here!\n",
    "\n",
    "    return NotImplemented\n",
    "\n",
    "import doctest\n",
    "doctest.run_docstring_examples(modified_gram_schmidt, locals())"
   ]
  },
  {
   "cell_type": "markdown",
   "metadata": {},
   "source": [
    "## Numerical Precision and an Analytic Solution\n",
    "\n",
    "Notice that the example-solution from part (a) contains values with \"ugly\" decimals.  Numpy as a **numerical** library, in the sense that it cannot express $2^{-1/2}$ exactly - instead, numbers are stored as a fixed-width binary approximation, as defined by the [IEEE standard](https://en.wikipedia.org/wiki/IEEE_754) for floating-point numbers.\n",
    "\n",
    "In practice this means that numbers are stored as **base-2 scientific notation**, with a fixed number of significant-digits (`float64` uses 52 base-2 \"bits\" of precision, which comes out to a little over 15 decimal digits).\n",
    "\n",
    "If you need an **exact** solution, you're better off solving the problem by hand, or using a CAS (computer algebra system) like Sympy.  Below a Sympy solution to the example in (3a).\n",
    "\n",
    "**Note:**  Although CAS is cool and wildly useful for certain applications, it does not perform well on large problems (ie, the time it takes to get a result typically grows exponentially with the size of the problem)."
   ]
  },
  {
   "cell_type": "code",
   "execution_count": 88,
   "metadata": {},
   "outputs": [
    {
     "data": {
      "text/latex": [
       "$\\displaystyle \\left[\\begin{matrix}\\frac{\\sqrt{2}}{2} & 0 & \\frac{1}{2} & - \\frac{1}{2}\\\\0 & \\frac{\\sqrt{2}}{2} & \\frac{1}{2} & \\frac{1}{2}\\\\\\frac{\\sqrt{2}}{2} & 0 & - \\frac{1}{2} & \\frac{1}{2}\\\\0 & - \\frac{\\sqrt{2}}{2} & \\frac{1}{2} & \\frac{1}{2}\\end{matrix}\\right]$"
      ],
      "text/plain": [
       "Matrix([\n",
       "[sqrt(2)/2,          0,  1/2, -1/2],\n",
       "[        0,  sqrt(2)/2,  1/2,  1/2],\n",
       "[sqrt(2)/2,          0, -1/2,  1/2],\n",
       "[        0, -sqrt(2)/2,  1/2,  1/2]])"
      ]
     },
     "execution_count": 88,
     "metadata": {},
     "output_type": "execute_result"
    }
   ],
   "source": [
    "import sympy as S\n",
    "from functools import reduce\n",
    "\n",
    "A = [[1, 0, 1, 1], [0, 1, 0, 1], [1, 0, 0, 1], [0,-1, 1, 1]]\n",
    "A = np.asarray(A)\n",
    "\n",
    "reduce(\n",
    "    lambda m, v: m.row_join(v),\n",
    "    S.GramSchmidt(\n",
    "        # List of column-vectors from A.\n",
    "        [S.Matrix(col) for col in A.T],\n",
    "        orthonormal=True))"
   ]
  },
  {
   "cell_type": "markdown",
   "metadata": {},
   "source": [
    "## Problem 4 (50 Points)\n",
    "\n",
    "Consider the following matrix:\n",
    "$$\n",
    "A = \\begin{bmatrix}\n",
    "1 & 3 & 0 & 5 \\\\\n",
    "2 & 6 & 1 & 16 \\\\\n",
    "5 & 15 & 0 & 25\n",
    "\\end{bmatrix}\n",
    "$$\n",
    "\n",
    "View this matrix as a linear transformation, T, between two vector spaces."
   ]
  },
  {
   "cell_type": "markdown",
   "metadata": {},
   "source": [
    "### a)  What are the *domain* and the *codomain* of T?"
   ]
  },
  {
   "cell_type": "markdown",
   "metadata": {},
   "source": []
  },
  {
   "cell_type": "markdown",
   "metadata": {},
   "source": [
    "### b) Define the column space of $A$, $C(A)$."
   ]
  },
  {
   "cell_type": "markdown",
   "metadata": {},
   "source": []
  },
  {
   "cell_type": "markdown",
   "metadata": {},
   "source": [
    "### c) Find a basis for the column space, $C(A)$, of $A$."
   ]
  },
  {
   "cell_type": "markdown",
   "metadata": {},
   "source": []
  },
  {
   "cell_type": "markdown",
   "metadata": {},
   "source": [
    "### d) Define the nullspace, $N(A)$, which is also known as the *kernel* of $T$."
   ]
  },
  {
   "cell_type": "markdown",
   "metadata": {},
   "source": []
  },
  {
   "cell_type": "markdown",
   "metadata": {},
   "source": [
    "### e) Find a basis for the nullspace N(A) of A."
   ]
  },
  {
   "cell_type": "markdown",
   "metadata": {},
   "source": []
  },
  {
   "cell_type": "markdown",
   "metadata": {},
   "source": [
    "### f) Define the row space, $C(A^T)$, of A."
   ]
  },
  {
   "cell_type": "markdown",
   "metadata": {},
   "source": []
  },
  {
   "cell_type": "markdown",
   "metadata": {},
   "source": [
    "### g) Find a basis for the row space, $C(A^T)$ of $A$."
   ]
  },
  {
   "cell_type": "markdown",
   "metadata": {},
   "source": []
  },
  {
   "cell_type": "markdown",
   "metadata": {},
   "source": [
    "### h) Define the left null space, $N(A^T)$, of $A$."
   ]
  },
  {
   "cell_type": "markdown",
   "metadata": {},
   "source": []
  },
  {
   "cell_type": "markdown",
   "metadata": {},
   "source": [
    "### i) Find a basis for the left nullspace $N(A^T)$."
   ]
  },
  {
   "cell_type": "markdown",
   "metadata": {},
   "source": []
  },
  {
   "cell_type": "markdown",
   "metadata": {},
   "source": [
    "### j) What is the rank of the matrix A?"
   ]
  },
  {
   "cell_type": "markdown",
   "metadata": {},
   "source": []
  },
  {
   "cell_type": "markdown",
   "metadata": {},
   "source": [
    "## Bonus (10 points)\n",
    "\n",
    "Briefly describe the set of real numbers that can be expressed *exactly* by `float64` using the IEEE floating-point standard.\n",
    "\n",
    "For each of the following, determine whether the number has an exact floating-point representation, and describe how you know:\n",
    "* 1\n",
    "* 1/2\n",
    "* 1/3\n",
    "* 7/256\n",
    "* sqrt(2)"
   ]
  }
 ],
 "metadata": {
  "kernelspec": {
   "display_name": "Python 3",
   "language": "python",
   "name": "python3"
  },
  "language_info": {
   "codemirror_mode": {
    "name": "ipython",
    "version": 3
   },
   "file_extension": ".py",
   "mimetype": "text/x-python",
   "name": "python",
   "nbconvert_exporter": "python",
   "pygments_lexer": "ipython3",
   "version": "3.9.12"
  }
 },
 "nbformat": 4,
 "nbformat_minor": 2
}
